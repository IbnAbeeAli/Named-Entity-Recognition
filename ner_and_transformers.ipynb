{
 "cells": [
  {
   "cell_type": "markdown",
   "metadata": {},
   "source": [
    "# NER and Transformers\n",
    "### Using the transformer pipeline (reberta-base) from spacy models and applying NER"
   ]
  },
  {
   "cell_type": "code",
   "execution_count": 1,
   "metadata": {},
   "outputs": [],
   "source": [
    "txt = \"Apple reached an all-time high stock price of 143 dollars this January.\""
   ]
  },
  {
   "cell_type": "code",
   "execution_count": 2,
   "metadata": {},
   "outputs": [
    {
     "name": "stdout",
     "output_type": "stream",
     "text": [
      "Collecting en-core-web-trf==3.6.1\n",
      "  Downloading https://github.com/explosion/spacy-models/releases/download/en_core_web_trf-3.6.1/en_core_web_trf-3.6.1-py3-none-any.whl (460.3 MB)\n",
      "\u001b[2K     \u001b[90m━━━━━━━━━━━━━━━━━━━━━━━━━━━━━━━━━━━━━━━\u001b[0m \u001b[32m460.3/460.3 MB\u001b[0m \u001b[31m1.8 MB/s\u001b[0m eta \u001b[36m0:00:00\u001b[0m00:01\u001b[0m00:05\u001b[0m\n",
      "\u001b[?25hRequirement already satisfied: spacy<3.7.0,>=3.6.0 in /Users/ibnabeeali/miniconda3/envs/ml/lib/python3.8/site-packages (from en-core-web-trf==3.6.1) (3.6.0)\n",
      "Collecting spacy-transformers<1.3.0,>=1.2.2 (from en-core-web-trf==3.6.1)\n",
      "  Downloading spacy_transformers-1.2.5-cp38-cp38-macosx_11_0_arm64.whl (172 kB)\n",
      "\u001b[2K     \u001b[90m━━━━━━━━━━━━━━━━━━━━━━━━━━━━━━━━━━━━━━━\u001b[0m \u001b[32m172.5/172.5 kB\u001b[0m \u001b[31m1.7 MB/s\u001b[0m eta \u001b[36m0:00:00\u001b[0ma \u001b[36m0:00:01\u001b[0m\n",
      "\u001b[?25hRequirement already satisfied: spacy-legacy<3.1.0,>=3.0.11 in /Users/ibnabeeali/miniconda3/envs/ml/lib/python3.8/site-packages (from spacy<3.7.0,>=3.6.0->en-core-web-trf==3.6.1) (3.0.12)\n",
      "Requirement already satisfied: spacy-loggers<2.0.0,>=1.0.0 in /Users/ibnabeeali/miniconda3/envs/ml/lib/python3.8/site-packages (from spacy<3.7.0,>=3.6.0->en-core-web-trf==3.6.1) (1.0.4)\n",
      "Requirement already satisfied: murmurhash<1.1.0,>=0.28.0 in /Users/ibnabeeali/miniconda3/envs/ml/lib/python3.8/site-packages (from spacy<3.7.0,>=3.6.0->en-core-web-trf==3.6.1) (1.0.7)\n",
      "Requirement already satisfied: cymem<2.1.0,>=2.0.2 in /Users/ibnabeeali/miniconda3/envs/ml/lib/python3.8/site-packages (from spacy<3.7.0,>=3.6.0->en-core-web-trf==3.6.1) (2.0.6)\n",
      "Requirement already satisfied: preshed<3.1.0,>=3.0.2 in /Users/ibnabeeali/miniconda3/envs/ml/lib/python3.8/site-packages (from spacy<3.7.0,>=3.6.0->en-core-web-trf==3.6.1) (3.0.6)\n",
      "Requirement already satisfied: thinc<8.2.0,>=8.1.8 in /Users/ibnabeeali/miniconda3/envs/ml/lib/python3.8/site-packages (from spacy<3.7.0,>=3.6.0->en-core-web-trf==3.6.1) (8.1.10)\n",
      "Requirement already satisfied: wasabi<1.2.0,>=0.9.1 in /Users/ibnabeeali/miniconda3/envs/ml/lib/python3.8/site-packages (from spacy<3.7.0,>=3.6.0->en-core-web-trf==3.6.1) (0.9.1)\n",
      "Requirement already satisfied: srsly<3.0.0,>=2.4.3 in /Users/ibnabeeali/miniconda3/envs/ml/lib/python3.8/site-packages (from spacy<3.7.0,>=3.6.0->en-core-web-trf==3.6.1) (2.4.6)\n",
      "Requirement already satisfied: catalogue<2.1.0,>=2.0.6 in /Users/ibnabeeali/miniconda3/envs/ml/lib/python3.8/site-packages (from spacy<3.7.0,>=3.6.0->en-core-web-trf==3.6.1) (2.0.7)\n",
      "Requirement already satisfied: typer<0.10.0,>=0.3.0 in /Users/ibnabeeali/miniconda3/envs/ml/lib/python3.8/site-packages (from spacy<3.7.0,>=3.6.0->en-core-web-trf==3.6.1) (0.9.0)\n",
      "Requirement already satisfied: pathy>=0.10.0 in /Users/ibnabeeali/miniconda3/envs/ml/lib/python3.8/site-packages (from spacy<3.7.0,>=3.6.0->en-core-web-trf==3.6.1) (0.10.1)\n",
      "Requirement already satisfied: smart-open<7.0.0,>=5.2.1 in /Users/ibnabeeali/miniconda3/envs/ml/lib/python3.8/site-packages (from spacy<3.7.0,>=3.6.0->en-core-web-trf==3.6.1) (5.2.1)\n",
      "Requirement already satisfied: tqdm<5.0.0,>=4.38.0 in /Users/ibnabeeali/miniconda3/envs/ml/lib/python3.8/site-packages (from spacy<3.7.0,>=3.6.0->en-core-web-trf==3.6.1) (4.65.0)\n",
      "Requirement already satisfied: numpy>=1.15.0 in /Users/ibnabeeali/miniconda3/envs/ml/lib/python3.8/site-packages (from spacy<3.7.0,>=3.6.0->en-core-web-trf==3.6.1) (1.24.3)\n",
      "Requirement already satisfied: requests<3.0.0,>=2.13.0 in /Users/ibnabeeali/miniconda3/envs/ml/lib/python3.8/site-packages (from spacy<3.7.0,>=3.6.0->en-core-web-trf==3.6.1) (2.29.0)\n",
      "Requirement already satisfied: pydantic!=1.8,!=1.8.1,<1.11.0,>=1.7.4 in /Users/ibnabeeali/miniconda3/envs/ml/lib/python3.8/site-packages (from spacy<3.7.0,>=3.6.0->en-core-web-trf==3.6.1) (1.10.8)\n",
      "Requirement already satisfied: jinja2 in /Users/ibnabeeali/miniconda3/envs/ml/lib/python3.8/site-packages (from spacy<3.7.0,>=3.6.0->en-core-web-trf==3.6.1) (3.1.2)\n",
      "Requirement already satisfied: setuptools in /Users/ibnabeeali/miniconda3/envs/ml/lib/python3.8/site-packages (from spacy<3.7.0,>=3.6.0->en-core-web-trf==3.6.1) (67.8.0)\n",
      "Requirement already satisfied: packaging>=20.0 in /Users/ibnabeeali/miniconda3/envs/ml/lib/python3.8/site-packages (from spacy<3.7.0,>=3.6.0->en-core-web-trf==3.6.1) (23.0)\n",
      "Requirement already satisfied: langcodes<4.0.0,>=3.2.0 in /Users/ibnabeeali/miniconda3/envs/ml/lib/python3.8/site-packages (from spacy<3.7.0,>=3.6.0->en-core-web-trf==3.6.1) (3.3.0)\n",
      "Collecting transformers<4.31.0,>=3.4.0 (from spacy-transformers<1.3.0,>=1.2.2->en-core-web-trf==3.6.1)\n",
      "  Using cached transformers-4.30.2-py3-none-any.whl (7.2 MB)\n",
      "Requirement already satisfied: torch>=1.8.0 in /Users/ibnabeeali/miniconda3/envs/ml/lib/python3.8/site-packages (from spacy-transformers<1.3.0,>=1.2.2->en-core-web-trf==3.6.1) (2.0.1)\n",
      "Requirement already satisfied: spacy-alignments<1.0.0,>=0.7.2 in /Users/ibnabeeali/miniconda3/envs/ml/lib/python3.8/site-packages (from spacy-transformers<1.3.0,>=1.2.2->en-core-web-trf==3.6.1) (0.9.0)\n",
      "Requirement already satisfied: typing-extensions>=4.2.0 in /Users/ibnabeeali/miniconda3/envs/ml/lib/python3.8/site-packages (from pydantic!=1.8,!=1.8.1,<1.11.0,>=1.7.4->spacy<3.7.0,>=3.6.0->en-core-web-trf==3.6.1) (4.5.0)\n",
      "Requirement already satisfied: charset-normalizer<4,>=2 in /Users/ibnabeeali/miniconda3/envs/ml/lib/python3.8/site-packages (from requests<3.0.0,>=2.13.0->spacy<3.7.0,>=3.6.0->en-core-web-trf==3.6.1) (2.0.4)\n",
      "Requirement already satisfied: idna<4,>=2.5 in /Users/ibnabeeali/miniconda3/envs/ml/lib/python3.8/site-packages (from requests<3.0.0,>=2.13.0->spacy<3.7.0,>=3.6.0->en-core-web-trf==3.6.1) (3.4)\n",
      "Requirement already satisfied: urllib3<1.27,>=1.21.1 in /Users/ibnabeeali/miniconda3/envs/ml/lib/python3.8/site-packages (from requests<3.0.0,>=2.13.0->spacy<3.7.0,>=3.6.0->en-core-web-trf==3.6.1) (1.26.16)\n",
      "Requirement already satisfied: certifi>=2017.4.17 in /Users/ibnabeeali/miniconda3/envs/ml/lib/python3.8/site-packages (from requests<3.0.0,>=2.13.0->spacy<3.7.0,>=3.6.0->en-core-web-trf==3.6.1) (2023.5.7)\n",
      "Requirement already satisfied: blis<0.8.0,>=0.7.8 in /Users/ibnabeeali/miniconda3/envs/ml/lib/python3.8/site-packages (from thinc<8.2.0,>=8.1.8->spacy<3.7.0,>=3.6.0->en-core-web-trf==3.6.1) (0.7.9)\n",
      "Requirement already satisfied: confection<1.0.0,>=0.0.1 in /Users/ibnabeeali/miniconda3/envs/ml/lib/python3.8/site-packages (from thinc<8.2.0,>=8.1.8->spacy<3.7.0,>=3.6.0->en-core-web-trf==3.6.1) (0.0.4)\n",
      "Requirement already satisfied: filelock in /Users/ibnabeeali/miniconda3/envs/ml/lib/python3.8/site-packages (from torch>=1.8.0->spacy-transformers<1.3.0,>=1.2.2->en-core-web-trf==3.6.1) (3.9.0)\n",
      "Requirement already satisfied: sympy in /Users/ibnabeeali/miniconda3/envs/ml/lib/python3.8/site-packages (from torch>=1.8.0->spacy-transformers<1.3.0,>=1.2.2->en-core-web-trf==3.6.1) (1.11.1)\n",
      "Requirement already satisfied: networkx in /Users/ibnabeeali/miniconda3/envs/ml/lib/python3.8/site-packages (from torch>=1.8.0->spacy-transformers<1.3.0,>=1.2.2->en-core-web-trf==3.6.1) (2.8.4)\n",
      "Requirement already satisfied: huggingface-hub<1.0,>=0.14.1 in /Users/ibnabeeali/miniconda3/envs/ml/lib/python3.8/site-packages (from transformers<4.31.0,>=3.4.0->spacy-transformers<1.3.0,>=1.2.2->en-core-web-trf==3.6.1) (0.15.1)\n",
      "Requirement already satisfied: pyyaml>=5.1 in /Users/ibnabeeali/miniconda3/envs/ml/lib/python3.8/site-packages (from transformers<4.31.0,>=3.4.0->spacy-transformers<1.3.0,>=1.2.2->en-core-web-trf==3.6.1) (6.0)\n",
      "Requirement already satisfied: regex!=2019.12.17 in /Users/ibnabeeali/miniconda3/envs/ml/lib/python3.8/site-packages (from transformers<4.31.0,>=3.4.0->spacy-transformers<1.3.0,>=1.2.2->en-core-web-trf==3.6.1) (2022.7.9)\n",
      "Requirement already satisfied: tokenizers!=0.11.3,<0.14,>=0.11.1 in /Users/ibnabeeali/miniconda3/envs/ml/lib/python3.8/site-packages (from transformers<4.31.0,>=3.4.0->spacy-transformers<1.3.0,>=1.2.2->en-core-web-trf==3.6.1) (0.13.2)\n",
      "Requirement already satisfied: safetensors>=0.3.1 in /Users/ibnabeeali/miniconda3/envs/ml/lib/python3.8/site-packages (from transformers<4.31.0,>=3.4.0->spacy-transformers<1.3.0,>=1.2.2->en-core-web-trf==3.6.1) (0.3.1)\n",
      "Requirement already satisfied: click<9.0.0,>=7.1.1 in /Users/ibnabeeali/miniconda3/envs/ml/lib/python3.8/site-packages (from typer<0.10.0,>=0.3.0->spacy<3.7.0,>=3.6.0->en-core-web-trf==3.6.1) (8.0.4)\n",
      "Requirement already satisfied: MarkupSafe>=2.0 in /Users/ibnabeeali/miniconda3/envs/ml/lib/python3.8/site-packages (from jinja2->spacy<3.7.0,>=3.6.0->en-core-web-trf==3.6.1) (2.1.1)\n",
      "Requirement already satisfied: fsspec in /Users/ibnabeeali/miniconda3/envs/ml/lib/python3.8/site-packages (from huggingface-hub<1.0,>=0.14.1->transformers<4.31.0,>=3.4.0->spacy-transformers<1.3.0,>=1.2.2->en-core-web-trf==3.6.1) (2023.4.0)\n",
      "Requirement already satisfied: mpmath>=0.19 in /Users/ibnabeeali/miniconda3/envs/ml/lib/python3.8/site-packages (from sympy->torch>=1.8.0->spacy-transformers<1.3.0,>=1.2.2->en-core-web-trf==3.6.1) (1.2.1)\n",
      "Installing collected packages: transformers, spacy-transformers, en-core-web-trf\n",
      "  Attempting uninstall: transformers\n",
      "    Found existing installation: transformers 4.31.0\n",
      "    Uninstalling transformers-4.31.0:\n",
      "      Successfully uninstalled transformers-4.31.0\n",
      "  Attempting uninstall: spacy-transformers\n",
      "    Found existing installation: spacy-transformers 1.1.9\n",
      "    Uninstalling spacy-transformers-1.1.9:\n",
      "      Successfully uninstalled spacy-transformers-1.1.9\n",
      "\u001b[31mERROR: pip's dependency resolver does not currently take into account all the packages that are installed. This behaviour is the source of the following dependency conflicts.\n",
      "flair 0.12.2 requires lxml, which is not installed.\n",
      "farm-haystack 1.18.1 requires transformers==4.30.1, but you have transformers 4.30.2 which is incompatible.\u001b[0m\u001b[31m\n",
      "\u001b[0mSuccessfully installed en-core-web-trf-3.6.1 spacy-transformers-1.2.5 transformers-4.30.2\n",
      "\u001b[38;5;2m✔ Download and installation successful\u001b[0m\n",
      "You can now load the package via spacy.load('en_core_web_trf')\n"
     ]
    }
   ],
   "source": [
    "!python -m spacy download en_core_web_trf"
   ]
  },
  {
   "cell_type": "code",
   "execution_count": 3,
   "metadata": {},
   "outputs": [],
   "source": [
    "import spacy\n",
    "from spacy import displacy"
   ]
  },
  {
   "cell_type": "code",
   "execution_count": 4,
   "metadata": {},
   "outputs": [
    {
     "name": "stderr",
     "output_type": "stream",
     "text": [
      "/Users/ibnabeeali/miniconda3/envs/ml/lib/python3.8/site-packages/tqdm/auto.py:21: TqdmWarning: IProgress not found. Please update jupyter and ipywidgets. See https://ipywidgets.readthedocs.io/en/stable/user_install.html\n",
      "  from .autonotebook import tqdm as notebook_tqdm\n"
     ]
    }
   ],
   "source": [
    "trf = spacy.load('en_core_web_trf')"
   ]
  },
  {
   "cell_type": "code",
   "execution_count": 7,
   "metadata": {},
   "outputs": [
    {
     "data": {
      "text/html": [
       "<span class=\"tex2jax_ignore\"><div class=\"entities\" style=\"line-height: 2.5; direction: ltr\">\n",
       "<mark class=\"entity\" style=\"background: #7aecec; padding: 0.45em 0.6em; margin: 0 0.25em; line-height: 1; border-radius: 0.35em;\">\n",
       "    Apple\n",
       "    <span style=\"font-size: 0.8em; font-weight: bold; line-height: 1; border-radius: 0.35em; vertical-align: middle; margin-left: 0.5rem\">ORG</span>\n",
       "</mark>\n",
       " reached an all-time high stock price of \n",
       "<mark class=\"entity\" style=\"background: #e4e7d2; padding: 0.45em 0.6em; margin: 0 0.25em; line-height: 1; border-radius: 0.35em;\">\n",
       "    143 dollars\n",
       "    <span style=\"font-size: 0.8em; font-weight: bold; line-height: 1; border-radius: 0.35em; vertical-align: middle; margin-left: 0.5rem\">MONEY</span>\n",
       "</mark>\n",
       " \n",
       "<mark class=\"entity\" style=\"background: #bfe1d9; padding: 0.45em 0.6em; margin: 0 0.25em; line-height: 1; border-radius: 0.35em;\">\n",
       "    this January\n",
       "    <span style=\"font-size: 0.8em; font-weight: bold; line-height: 1; border-radius: 0.35em; vertical-align: middle; margin-left: 0.5rem\">DATE</span>\n",
       "</mark>\n",
       ".</div></span>"
      ],
      "text/plain": [
       "<IPython.core.display.HTML object>"
      ]
     },
     "metadata": {},
     "output_type": "display_data"
    }
   ],
   "source": [
    "doc = trf(txt)\n",
    "displacy.render(doc, style='ent')"
   ]
  },
  {
   "cell_type": "code",
   "execution_count": null,
   "metadata": {},
   "outputs": [],
   "source": []
  }
 ],
 "metadata": {
  "kernelspec": {
   "display_name": "ml",
   "language": "python",
   "name": "python3"
  },
  "language_info": {
   "codemirror_mode": {
    "name": "ipython",
    "version": 3
   },
   "file_extension": ".py",
   "mimetype": "text/x-python",
   "name": "python",
   "nbconvert_exporter": "python",
   "pygments_lexer": "ipython3",
   "version": "3.8.5"
  },
  "orig_nbformat": 4
 },
 "nbformat": 4,
 "nbformat_minor": 2
}
