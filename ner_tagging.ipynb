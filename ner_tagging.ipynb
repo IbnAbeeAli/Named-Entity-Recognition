{
 "cells": [
  {
   "cell_type": "code",
   "execution_count": 1,
   "metadata": {},
   "outputs": [],
   "source": [
    "import spacy\n",
    "import pandas as pd"
   ]
  },
  {
   "cell_type": "code",
   "execution_count": 2,
   "metadata": {},
   "outputs": [
    {
     "name": "stderr",
     "output_type": "stream",
     "text": [
      "/Users/ibnabeeali/miniconda3/envs/ml/lib/python3.8/site-packages/tqdm/auto.py:21: TqdmWarning: IProgress not found. Please update jupyter and ipywidgets. See https://ipywidgets.readthedocs.io/en/stable/user_install.html\n",
      "  from .autonotebook import tqdm as notebook_tqdm\n"
     ]
    }
   ],
   "source": [
    "nlp = spacy.load('en_core_web_sm')"
   ]
  },
  {
   "cell_type": "code",
   "execution_count": 4,
   "metadata": {},
   "outputs": [
    {
     "data": {
      "text/html": [
       "<div>\n",
       "<style scoped>\n",
       "    .dataframe tbody tr th:only-of-type {\n",
       "        vertical-align: middle;\n",
       "    }\n",
       "\n",
       "    .dataframe tbody tr th {\n",
       "        vertical-align: top;\n",
       "    }\n",
       "\n",
       "    .dataframe thead th {\n",
       "        text-align: right;\n",
       "    }\n",
       "</style>\n",
       "<table border=\"1\" class=\"dataframe\">\n",
       "  <thead>\n",
       "    <tr style=\"text-align: right;\">\n",
       "      <th></th>\n",
       "      <th>name</th>\n",
       "      <th>created_utc</th>\n",
       "      <th>subreddit</th>\n",
       "      <th>title</th>\n",
       "      <th>selftext</th>\n",
       "      <th>upvote_ratio</th>\n",
       "      <th>ups</th>\n",
       "      <th>downs</th>\n",
       "      <th>score</th>\n",
       "    </tr>\n",
       "  </thead>\n",
       "  <tbody>\n",
       "    <tr>\n",
       "      <th>0</th>\n",
       "      <td>t3_157aure</td>\n",
       "      <td>1.690107e+09</td>\n",
       "      <td>investing</td>\n",
       "      <td>Honest opinions? Good idea/bad idea</td>\n",
       "      <td>Hi all,\\n\\nAbout to lock in £20,000 (yearly ta...</td>\n",
       "      <td>1.00</td>\n",
       "      <td>2.0</td>\n",
       "      <td>0.0</td>\n",
       "      <td>2.0</td>\n",
       "    </tr>\n",
       "    <tr>\n",
       "      <th>1</th>\n",
       "      <td>t3_1579rid</td>\n",
       "      <td>1.690103e+09</td>\n",
       "      <td>investing</td>\n",
       "      <td>Daily General Discussion and Advice Thread - J...</td>\n",
       "      <td>Have a general question?  Want to offer some c...</td>\n",
       "      <td>1.00</td>\n",
       "      <td>1.0</td>\n",
       "      <td>0.0</td>\n",
       "      <td>1.0</td>\n",
       "    </tr>\n",
       "    <tr>\n",
       "      <th>2</th>\n",
       "      <td>t3_15791ul</td>\n",
       "      <td>1.690100e+09</td>\n",
       "      <td>investing</td>\n",
       "      <td>Thoughts about TSLA as a long term investment.</td>\n",
       "      <td>Would love to hear your thoughts about TSLA as...</td>\n",
       "      <td>0.50</td>\n",
       "      <td>0.0</td>\n",
       "      <td>0.0</td>\n",
       "      <td>0.0</td>\n",
       "    </tr>\n",
       "    <tr>\n",
       "      <th>3</th>\n",
       "      <td>t3_1573gnn</td>\n",
       "      <td>1.690082e+09</td>\n",
       "      <td>investing</td>\n",
       "      <td>Warren buffet quote y’all might like</td>\n",
       "      <td>\"It is a terrible mistake for investors with l...</td>\n",
       "      <td>0.78</td>\n",
       "      <td>41.0</td>\n",
       "      <td>0.0</td>\n",
       "      <td>41.0</td>\n",
       "    </tr>\n",
       "    <tr>\n",
       "      <th>4</th>\n",
       "      <td>t3_15714rh</td>\n",
       "      <td>1.690075e+09</td>\n",
       "      <td>investing</td>\n",
       "      <td>How can I make investing into the stock market...</td>\n",
       "      <td>Hello I’ve recently been researching about inv...</td>\n",
       "      <td>0.20</td>\n",
       "      <td>0.0</td>\n",
       "      <td>0.0</td>\n",
       "      <td>0.0</td>\n",
       "    </tr>\n",
       "  </tbody>\n",
       "</table>\n",
       "</div>"
      ],
      "text/plain": [
       "         name   created_utc  subreddit  \\\n",
       "0  t3_157aure  1.690107e+09  investing   \n",
       "1  t3_1579rid  1.690103e+09  investing   \n",
       "2  t3_15791ul  1.690100e+09  investing   \n",
       "3  t3_1573gnn  1.690082e+09  investing   \n",
       "4  t3_15714rh  1.690075e+09  investing   \n",
       "\n",
       "                                               title  \\\n",
       "0                Honest opinions? Good idea/bad idea   \n",
       "1  Daily General Discussion and Advice Thread - J...   \n",
       "2     Thoughts about TSLA as a long term investment.   \n",
       "3               Warren buffet quote y’all might like   \n",
       "4  How can I make investing into the stock market...   \n",
       "\n",
       "                                            selftext  upvote_ratio   ups  \\\n",
       "0  Hi all,\\n\\nAbout to lock in £20,000 (yearly ta...          1.00   2.0   \n",
       "1  Have a general question?  Want to offer some c...          1.00   1.0   \n",
       "2  Would love to hear your thoughts about TSLA as...          0.50   0.0   \n",
       "3  \"It is a terrible mistake for investors with l...          0.78  41.0   \n",
       "4  Hello I’ve recently been researching about inv...          0.20   0.0   \n",
       "\n",
       "   downs  score  \n",
       "0    0.0    2.0  \n",
       "1    0.0    1.0  \n",
       "2    0.0    0.0  \n",
       "3    0.0   41.0  \n",
       "4    0.0    0.0  "
      ]
     },
     "execution_count": 4,
     "metadata": {},
     "output_type": "execute_result"
    }
   ],
   "source": [
    "df = pd.read_csv('reddit_investing.csv', sep='|' )\n",
    "df.head()"
   ]
  },
  {
   "cell_type": "markdown",
   "metadata": {},
   "source": [
    "### Function for extracting entities in each chunk of text"
   ]
  },
  {
   "cell_type": "code",
   "execution_count": 5,
   "metadata": {},
   "outputs": [],
   "source": [
    "def get_orgs(text):\n",
    "    doc = nlp(text)\n",
    "    org_list = []\n",
    "    for entity in doc.ents:\n",
    "        if entity.label_ == 'ORG':\n",
    "            org_list.append(entity.text)\n",
    "    org_list = list(set(org_list))\n",
    "    return org_list\n",
    "\n",
    "\n"
   ]
  },
  {
   "cell_type": "code",
   "execution_count": 6,
   "metadata": {},
   "outputs": [],
   "source": [
    "# applying the get_orgs function to every selftext in the df\n",
    "df['organizations'] = df['selftext'].apply(get_orgs)"
   ]
  },
  {
   "cell_type": "code",
   "execution_count": 8,
   "metadata": {},
   "outputs": [
    {
     "data": {
      "text/html": [
       "<div>\n",
       "<style scoped>\n",
       "    .dataframe tbody tr th:only-of-type {\n",
       "        vertical-align: middle;\n",
       "    }\n",
       "\n",
       "    .dataframe tbody tr th {\n",
       "        vertical-align: top;\n",
       "    }\n",
       "\n",
       "    .dataframe thead th {\n",
       "        text-align: right;\n",
       "    }\n",
       "</style>\n",
       "<table border=\"1\" class=\"dataframe\">\n",
       "  <thead>\n",
       "    <tr style=\"text-align: right;\">\n",
       "      <th></th>\n",
       "      <th>name</th>\n",
       "      <th>created_utc</th>\n",
       "      <th>subreddit</th>\n",
       "      <th>title</th>\n",
       "      <th>selftext</th>\n",
       "      <th>upvote_ratio</th>\n",
       "      <th>ups</th>\n",
       "      <th>downs</th>\n",
       "      <th>score</th>\n",
       "      <th>organizations</th>\n",
       "    </tr>\n",
       "  </thead>\n",
       "  <tbody>\n",
       "    <tr>\n",
       "      <th>0</th>\n",
       "      <td>t3_157aure</td>\n",
       "      <td>1.690107e+09</td>\n",
       "      <td>investing</td>\n",
       "      <td>Honest opinions? Good idea/bad idea</td>\n",
       "      <td>Hi all,\\n\\nAbout to lock in £20,000 (yearly ta...</td>\n",
       "      <td>1.00</td>\n",
       "      <td>2.0</td>\n",
       "      <td>0.0</td>\n",
       "      <td>2.0</td>\n",
       "      <td>[ISA]</td>\n",
       "    </tr>\n",
       "    <tr>\n",
       "      <th>1</th>\n",
       "      <td>t3_1579rid</td>\n",
       "      <td>1.690103e+09</td>\n",
       "      <td>investing</td>\n",
       "      <td>Daily General Discussion and Advice Thread - J...</td>\n",
       "      <td>Have a general question?  Want to offer some c...</td>\n",
       "      <td>1.00</td>\n",
       "      <td>1.0</td>\n",
       "      <td>0.0</td>\n",
       "      <td>1.0</td>\n",
       "      <td>[FAQ, wiki]</td>\n",
       "    </tr>\n",
       "    <tr>\n",
       "      <th>2</th>\n",
       "      <td>t3_15791ul</td>\n",
       "      <td>1.690100e+09</td>\n",
       "      <td>investing</td>\n",
       "      <td>Thoughts about TSLA as a long term investment.</td>\n",
       "      <td>Would love to hear your thoughts about TSLA as...</td>\n",
       "      <td>0.50</td>\n",
       "      <td>0.0</td>\n",
       "      <td>0.0</td>\n",
       "      <td>0.0</td>\n",
       "      <td>[]</td>\n",
       "    </tr>\n",
       "    <tr>\n",
       "      <th>3</th>\n",
       "      <td>t3_1573gnn</td>\n",
       "      <td>1.690082e+09</td>\n",
       "      <td>investing</td>\n",
       "      <td>Warren buffet quote y’all might like</td>\n",
       "      <td>\"It is a terrible mistake for investors with l...</td>\n",
       "      <td>0.78</td>\n",
       "      <td>41.0</td>\n",
       "      <td>0.0</td>\n",
       "      <td>41.0</td>\n",
       "      <td>[]</td>\n",
       "    </tr>\n",
       "    <tr>\n",
       "      <th>4</th>\n",
       "      <td>t3_15714rh</td>\n",
       "      <td>1.690075e+09</td>\n",
       "      <td>investing</td>\n",
       "      <td>How can I make investing into the stock market...</td>\n",
       "      <td>Hello I’ve recently been researching about inv...</td>\n",
       "      <td>0.20</td>\n",
       "      <td>0.0</td>\n",
       "      <td>0.0</td>\n",
       "      <td>0.0</td>\n",
       "      <td>[]</td>\n",
       "    </tr>\n",
       "  </tbody>\n",
       "</table>\n",
       "</div>"
      ],
      "text/plain": [
       "         name   created_utc  subreddit  \\\n",
       "0  t3_157aure  1.690107e+09  investing   \n",
       "1  t3_1579rid  1.690103e+09  investing   \n",
       "2  t3_15791ul  1.690100e+09  investing   \n",
       "3  t3_1573gnn  1.690082e+09  investing   \n",
       "4  t3_15714rh  1.690075e+09  investing   \n",
       "\n",
       "                                               title  \\\n",
       "0                Honest opinions? Good idea/bad idea   \n",
       "1  Daily General Discussion and Advice Thread - J...   \n",
       "2     Thoughts about TSLA as a long term investment.   \n",
       "3               Warren buffet quote y’all might like   \n",
       "4  How can I make investing into the stock market...   \n",
       "\n",
       "                                            selftext  upvote_ratio   ups  \\\n",
       "0  Hi all,\\n\\nAbout to lock in £20,000 (yearly ta...          1.00   2.0   \n",
       "1  Have a general question?  Want to offer some c...          1.00   1.0   \n",
       "2  Would love to hear your thoughts about TSLA as...          0.50   0.0   \n",
       "3  \"It is a terrible mistake for investors with l...          0.78  41.0   \n",
       "4  Hello I’ve recently been researching about inv...          0.20   0.0   \n",
       "\n",
       "   downs  score organizations  \n",
       "0    0.0    2.0         [ISA]  \n",
       "1    0.0    1.0   [FAQ, wiki]  \n",
       "2    0.0    0.0            []  \n",
       "3    0.0   41.0            []  \n",
       "4    0.0    0.0            []  "
      ]
     },
     "execution_count": 8,
     "metadata": {},
     "output_type": "execute_result"
    }
   ],
   "source": [
    "df.head()"
   ]
  },
  {
   "cell_type": "markdown",
   "metadata": {},
   "source": [
    "#### Extracting the most mentioned entities"
   ]
  },
  {
   "cell_type": "code",
   "execution_count": 9,
   "metadata": {},
   "outputs": [],
   "source": [
    "from collections import Counter"
   ]
  },
  {
   "cell_type": "code",
   "execution_count": 10,
   "metadata": {},
   "outputs": [],
   "source": [
    "# reformat data into a single list for Counter()\n",
    "orgs = df['organizations'].to_list()\n",
    "orgs = [org for sublist in orgs for org in sublist]\n"
   ]
  },
  {
   "cell_type": "code",
   "execution_count": 12,
   "metadata": {},
   "outputs": [],
   "source": [
    "org_freq = Counter(orgs) # needs a single list containing all orgs mentions"
   ]
  },
  {
   "cell_type": "code",
   "execution_count": 13,
   "metadata": {},
   "outputs": [
    {
     "data": {
      "text/plain": [
       "[('FAQ', 47),\n",
       " ('wiki', 47),\n",
       " ('VOO', 45),\n",
       " ('Fidelity', 44),\n",
       " ('Vanguard', 18),\n",
       " ('Fed', 18),\n",
       " ('SPY', 17),\n",
       " ('AI', 13),\n",
       " ('HSA', 12),\n",
       " ('QQQ', 12)]"
      ]
     },
     "execution_count": 13,
     "metadata": {},
     "output_type": "execute_result"
    }
   ],
   "source": [
    "org_freq.most_common(10)"
   ]
  },
  {
   "cell_type": "markdown",
   "metadata": {},
   "source": []
  },
  {
   "cell_type": "code",
   "execution_count": 20,
   "metadata": {},
   "outputs": [],
   "source": [
    "# Creating a blacklist to view the most mentioned stocks\n",
    "blacklist = ['voo', 'qqq', 'fed', 'vanguard']"
   ]
  },
  {
   "cell_type": "code",
   "execution_count": 21,
   "metadata": {},
   "outputs": [],
   "source": [
    "def get_orgs(text):\n",
    "    doc = nlp(text)\n",
    "    org_list = []\n",
    "    for entity in doc.ents:\n",
    "        if entity.label_ == 'ORG' and entity.text.lower() not in blacklist:\n",
    "            org_list.append(entity.text)\n",
    "    org_list = list(set(org_list))\n",
    "    return org_list\n",
    "\n",
    "\n"
   ]
  },
  {
   "cell_type": "code",
   "execution_count": 22,
   "metadata": {},
   "outputs": [],
   "source": [
    "# applying the get_orgs function to every selftext in the df\n",
    "df['organizations'] = df['selftext'].apply(get_orgs)"
   ]
  },
  {
   "cell_type": "code",
   "execution_count": 23,
   "metadata": {},
   "outputs": [],
   "source": [
    "# reformat data into a single list for Counter()\n",
    "orgs = df['organizations'].to_list()\n",
    "orgs = [org for sublist in orgs for org in sublist]\n"
   ]
  },
  {
   "cell_type": "code",
   "execution_count": 24,
   "metadata": {},
   "outputs": [
    {
     "data": {
      "text/plain": [
       "[('FAQ', 47),\n",
       " ('wiki', 47),\n",
       " ('Fidelity', 44),\n",
       " ('SPY', 17),\n",
       " ('AI', 13),\n",
       " ('HSA', 12),\n",
       " ('fidelity', 11),\n",
       " ('Apple', 10),\n",
       " ('Tesla', 9),\n",
       " ('Microsoft', 9)]"
      ]
     },
     "execution_count": 24,
     "metadata": {},
     "output_type": "execute_result"
    }
   ],
   "source": [
    "org_freq = Counter(orgs) # needs a single list containing all orgs mentions\n",
    "org_freq.most_common(10)"
   ]
  },
  {
   "cell_type": "code",
   "execution_count": 25,
   "metadata": {},
   "outputs": [],
   "source": [
    "df.to_csv('ner_reddit_investing.csv', sep='|', index=False)"
   ]
  },
  {
   "cell_type": "code",
   "execution_count": null,
   "metadata": {},
   "outputs": [],
   "source": []
  },
  {
   "cell_type": "code",
   "execution_count": null,
   "metadata": {},
   "outputs": [],
   "source": []
  }
 ],
 "metadata": {
  "kernelspec": {
   "display_name": "ml",
   "language": "python",
   "name": "python3"
  },
  "language_info": {
   "codemirror_mode": {
    "name": "ipython",
    "version": 3
   },
   "file_extension": ".py",
   "mimetype": "text/x-python",
   "name": "python",
   "nbconvert_exporter": "python",
   "pygments_lexer": "ipython3",
   "version": "3.8.5"
  },
  "orig_nbformat": 4
 },
 "nbformat": 4,
 "nbformat_minor": 2
}
